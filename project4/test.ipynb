{
 "cells": [
  {
   "cell_type": "code",
   "execution_count": 2,
   "id": "d8b602d0",
   "metadata": {},
   "outputs": [
    {
     "data": {
      "text/latex": [
       "$\\displaystyle \\left[\\begin{matrix}0 & 0 & 1 & 0\\\\0 & 0 & 0 & 1\\\\0 & 0 & 0 & 0\\\\0 & 0 & 0 & 0\\end{matrix}\\right]$"
      ],
      "text/plain": [
       "Matrix([\n",
       "[0, 0, 1, 0],\n",
       "[0, 0, 0, 1],\n",
       "[0, 0, 0, 0],\n",
       "[0, 0, 0, 0]])"
      ]
     },
     "metadata": {},
     "output_type": "display_data"
    },
    {
     "data": {
      "text/latex": [
       "$\\displaystyle \\left[\\begin{matrix}1 & 0 & T & 0\\\\0 & 1 & 0 & T\\\\0 & 0 & 1 & 0\\\\0 & 0 & 0 & 1\\end{matrix}\\right]$"
      ],
      "text/plain": [
       "Matrix([\n",
       "[1, 0, T, 0],\n",
       "[0, 1, 0, T],\n",
       "[0, 0, 1, 0],\n",
       "[0, 0, 0, 1]])"
      ]
     },
     "metadata": {},
     "output_type": "display_data"
    },
    {
     "data": {
      "text/latex": [
       "$\\displaystyle \\left[\\begin{matrix}0 & 0\\\\0 & 0\\\\1 & 0\\\\0 & 1\\end{matrix}\\right]$"
      ],
      "text/plain": [
       "Matrix([\n",
       "[0, 0],\n",
       "[0, 0],\n",
       "[1, 0],\n",
       "[0, 1]])"
      ]
     },
     "metadata": {},
     "output_type": "display_data"
    },
    {
     "data": {
      "text/latex": [
       "$\\displaystyle \\left[\\begin{matrix}\\frac{T^{3} q}{3} & 0 & \\frac{T^{2} q}{2} & 0\\\\0 & \\frac{T^{3} q}{3} & 0 & \\frac{T^{2} q}{2}\\\\\\frac{T^{2} q}{2} & 0 & T q & 0\\\\0 & \\frac{T^{2} q}{2} & 0 & T q\\end{matrix}\\right]$"
      ],
      "text/plain": [
       "Matrix([\n",
       "[T**3*q/3,        0, T**2*q/2,        0],\n",
       "[       0, T**3*q/3,        0, T**2*q/2],\n",
       "[T**2*q/2,        0,      T*q,        0],\n",
       "[       0, T**2*q/2,        0,      T*q]])"
      ]
     },
     "metadata": {},
     "output_type": "display_data"
    },
    {
     "data": {
      "text/latex": [
       "$\\displaystyle \\left[\\begin{matrix}1 & 0 & 0 & 0\\\\0 & 1 & 0 & 0\\end{matrix}\\right]$"
      ],
      "text/plain": [
       "Matrix([\n",
       "[1, 0, 0, 0],\n",
       "[0, 1, 0, 0]])"
      ]
     },
     "metadata": {},
     "output_type": "display_data"
    }
   ],
   "source": [
    "import sympy as sp\n",
    "import numpy as np\n",
    "\n",
    "# NOTE: state is [x,y, x_vel, y_vel]\n",
    "T_NCV, q_NCV = sp.symbols('T, q')\n",
    "F_NCV = sp.Matrix([[0,0, 1,0],[0,0,0,1], [0,0,0,0], [0,0,0,0]])\n",
    "display(F_NCV)\n",
    "Fi_NCV = sp.exp(F_NCV * T_NCV)\n",
    "display(Fi_NCV)\n",
    "L_NCV = sp.Matrix([\n",
    "    [0, 0],\n",
    "    [0, 0],\n",
    "    [1, 0],\n",
    "    [0, 1]\n",
    "])\n",
    "display(L_NCV)\n",
    "# The covariance matrix\n",
    "Q_NCV = sp.integrate((Fi_NCV * L_NCV) * q_NCV * (Fi_NCV  * L_NCV).T, (T_NCV, 0, T_NCV) )\n",
    "display(Q_NCV)\n",
    "H_NCV = sp.Matrix([[1,0,0,0], [0,1,0,0]])\n",
    "display(H_NCV)"
   ]
  }
 ],
 "metadata": {
  "kernelspec": {
   "display_name": ".venv",
   "language": "python",
   "name": "python3"
  },
  "language_info": {
   "codemirror_mode": {
    "name": "ipython",
    "version": 3
   },
   "file_extension": ".py",
   "mimetype": "text/x-python",
   "name": "python",
   "nbconvert_exporter": "python",
   "pygments_lexer": "ipython3",
   "version": "3.10.15"
  }
 },
 "nbformat": 4,
 "nbformat_minor": 5
}
