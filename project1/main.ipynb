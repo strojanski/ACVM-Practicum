{
 "cells": [
  {
   "cell_type": "code",
   "execution_count": 9,
   "metadata": {},
   "outputs": [],
   "source": [
    "import numpy as np\n",
    "import cv2\n",
    "from ex1_utils import gaussderiv, gausssmooth, show_flow\n",
    "import matplotlib.pyplot as plt"
   ]
  },
  {
   "cell_type": "code",
   "execution_count": 10,
   "metadata": {},
   "outputs": [],
   "source": [
    "def uniform_kernel(N):\n",
    "    ker = np.ones((N,N))\n",
    "    return ker\n",
    "    "
   ]
  },
  {
   "cell_type": "code",
   "execution_count": null,
   "metadata": {},
   "outputs": [],
   "source": [
    "def lucaskanade(im1, im2, N):\n",
    "    \"\"\"Simple non-pyramid LK optical flow estimation\"\"\"\n",
    "    \n",
    "    kernel = uniform_kernel(N)\n",
    "    \n",
    "    dx_im1, dy_im1 = gaussderiv(im1, sigma=1.5)\n",
    "    dx_im2, dy_im2 = gaussderiv(im2, sigma=1.5)\n",
    "\n",
    "    # Get average derivatives\n",
    "    I_x = (dx_im1 + dx_im2) / 2\n",
    "    I_y = (dy_im1 + dy_im2) / 2\n",
    "    I_t = im2 - im1\n",
    "\n",
    "    I_xx = I_x * I_x\n",
    "    I_yy = I_y * I_y\n",
    "    I_xy = I_x * I_y\n",
    "    I_xt = I_x * I_t\n",
    "    I_yt = I_y * I_t\n",
    "    \n",
    "    Det = (cv2.filter2D(I_xx, -1, kernel) * cv2.filter2D(I_yy, -1, kernel)) - (cv2.filter2D(I_xy, -1, kernel)**2)\n",
    "\n",
    "    u = - (\n",
    "        cv2.filter2D(I_yy, -1, kernel) *\n",
    "        cv2.filter2D(I_xt, -1, kernel)\n",
    "        -\n",
    "        cv2.filter2D(I_xy, -1, kernel) *\n",
    "        cv2.filter2D(I_yt, -1, kernel)\n",
    "    ) / Det \n",
    "    \n",
    "    v = - (\n",
    "        cv2.filter2D(I_xx, -1, kernel) *\n",
    "        cv2.filter2D(I_yt, -1, kernel)\n",
    "        -\n",
    "        cv2.filter2D(I_xy, -1, kernel) *\n",
    "        cv2.filter2D(I_xt, -1, kernel)\n",
    "    ) / Det\n",
    "    \n",
    "    return u, v"
   ]
  },
  {
   "cell_type": "code",
   "execution_count": 98,
   "metadata": {},
   "outputs": [
    {
     "name": "stderr",
     "output_type": "stream",
     "text": [
      "C:\\Users\\sebas\\AppData\\Local\\Temp\\ipykernel_7440\\741898592.py:23: RuntimeWarning: invalid value encountered in divide\n",
      "  u = - (\n",
      "C:\\Users\\sebas\\AppData\\Local\\Temp\\ipykernel_7440\\741898592.py:31: RuntimeWarning: invalid value encountered in divide\n",
      "  v = - (\n"
     ]
    }
   ],
   "source": [
    "im1 = cv2.imread(\"disparity/office_left.png\")\n",
    "im2 = cv2.imread(\"disparity/office_right.png\")\n",
    "\n",
    "im1 = cv2.cvtColor(im1, cv2.COLOR_BGR2GRAY)\n",
    "im2 = cv2.cvtColor(im2, cv2.COLOR_BGR2GRAY)\n",
    "\n",
    "u, v = lucaskanade(im1, im2, 3)"
   ]
  }
 ],
 "metadata": {
  "kernelspec": {
   "display_name": ".venv",
   "language": "python",
   "name": "python3"
  },
  "language_info": {
   "codemirror_mode": {
    "name": "ipython",
    "version": 3
   },
   "file_extension": ".py",
   "mimetype": "text/x-python",
   "name": "python",
   "nbconvert_exporter": "python",
   "pygments_lexer": "ipython3",
   "version": "3.10.15"
  }
 },
 "nbformat": 4,
 "nbformat_minor": 2
}
